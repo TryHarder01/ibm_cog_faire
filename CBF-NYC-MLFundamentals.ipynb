{
 "cells": [
  {
   "cell_type": "markdown",
   "metadata": {},
   "source": [
    "# <div><img src=\"https://ibm.box.com/shared/static/7bj33ipwjwmblrfryr2vgpyl6dqaevwv.jpg\" width=800></div>\n",
    "\n",
    "<hr>"
   ]
  },
  {
   "cell_type": "markdown",
   "metadata": {},
   "source": [
    "## <center>Please Tweet about us! \n",
    "<a href=https://twitter.com/intent/tweet?text=Learning+%23datascience+at+%23CognitiveBuilder+%40BuildWithWatson+%40Galvanize+%40CognitiveClass+Free+data+science+courses%3A++http%3A%2F%2Fbit.ly%2F2o23Sl9><img src=https://ibm.box.com/shared/static/70e6l8kzi8g74fv0pmhfpyzwlj0zjqlh.png style='border:1px solid #D3D3D3' width = 800></a>"
   ]
  },
  {
   "cell_type": "markdown",
   "metadata": {},
   "source": [
    "<hr>"
   ]
  },
  {
   "cell_type": "markdown",
   "metadata": {},
   "source": [
    "## IBM Data Science Experience <img src=https://api.apsportal.ibm.com/v2/nav/graphics/dsx-logo-lg.svg align=left>"
   ]
  },
  {
   "cell_type": "markdown",
   "metadata": {},
   "source": [
    "Free trial includes:\n",
    "- 30 days\n",
    "- 5 GB storage\n",
    "- After 30 days, will need to add a credit card to continue using DSX. Will not be charged indefinitely unless you request extra resources."
   ]
  },
  {
   "cell_type": "markdown",
   "metadata": {},
   "source": [
    "## How to use notebooks:\n",
    "<img src=https://ibm.box.com/shared/static/4g2hs88inr5mwx2midhg9j66emuwit9y.gif width=600 align=left>"
   ]
  },
  {
   "cell_type": "markdown",
   "metadata": {},
   "source": [
    "### Try running some code below:"
   ]
  },
  {
   "cell_type": "code",
   "execution_count": null,
   "metadata": {
    "collapsed": false
   },
   "outputs": [],
   "source": [
    "1 + 1 # Shift+Enter to run"
   ]
  },
  {
   "cell_type": "markdown",
   "metadata": {},
   "source": [
    "### Try to insert a cell below, above the line"
   ]
  },
  {
   "cell_type": "markdown",
   "metadata": {},
   "source": [
    "<hr>"
   ]
  },
  {
   "cell_type": "markdown",
   "metadata": {},
   "source": [
    "### Convert the next cell into a markdown cell to run it"
   ]
  },
  {
   "cell_type": "code",
   "execution_count": null,
   "metadata": {
    "collapsed": true
   },
   "outputs": [],
   "source": [
    "<a id=\"Change this into a code cell\"></a>\n",
    "# Great\n",
    "## Wow\n",
    "### Amazing\n",
    "#### Super\n",
    "\n",
    "1. Eat\n",
    "2. _Sleep_\n",
    "3. **Code**\n",
    "> Build machine learning models  \n",
    "\n",
    "`Write more code`\n",
    "\n",
    "- double click this cell to edit  \n",
    "\n",
    "Create fancy $functions$\n",
    "\n",
    "<font color=\"red\">Data Science.</font>  \n",
    "\n",
    "<img src=https://api.apsportal.ibm.com/v2/nav/graphics/dsx-logo-lg.svg width=100 align=left>  "
   ]
  },
  {
   "cell_type": "markdown",
   "metadata": {},
   "source": [
    "<hr>"
   ]
  },
  {
   "cell_type": "markdown",
   "metadata": {},
   "source": [
    "# <center> Machine Learning using Python\n",
    "## <center><a href=\"https://www.linkedin.com/in/polonglin/\">Polong Lin</a> (Lead Data Science Advocate, IBM)"
   ]
  },
  {
   "cell_type": "markdown",
   "metadata": {},
   "source": [
    "## Which neighbourhoods in NYC are most similar to each other?"
   ]
  },
  {
   "cell_type": "markdown",
   "metadata": {},
   "source": [
    "#### Where are all the neighbourhoods in NYC?"
   ]
  },
  {
   "cell_type": "code",
   "execution_count": null,
   "metadata": {
    "collapsed": false
   },
   "outputs": [],
   "source": [
    "# Original data source: https://geo.nyu.edu/catalog/nyu_2451_34572\n",
    "\n",
    "# Download the data \n",
    "!wget -O nyc_neighborhoods.csv --quiet https://ibm.box.com/shared/static/vgmf4nauors62vyzv7mg2ul4fpzvomen.csv\n",
    "\n",
    "import pandas as pd\n",
    "\n",
    "nyc = pd.read_csv(\"nyc_neighborhoods.csv\")\n",
    "\n",
    "print(nyc.shape) #shows number of (rows, columns)\n",
    "\n",
    "nyc.head(10) #returns first 10 rows"
   ]
  },
  {
   "cell_type": "code",
   "execution_count": null,
   "metadata": {
    "collapsed": false
   },
   "outputs": [],
   "source": [
    "# focus on neighborhoods in Manhattan only\n",
    "nyc = nyc[nyc.borough == \"Manhattan\"]\n",
    "\n",
    "print(nyc.shape)\n",
    "nyc.head(10)"
   ]
  },
  {
   "cell_type": "markdown",
   "metadata": {},
   "source": [
    "## Plot the Manhattan neighborhoods on a map"
   ]
  },
  {
   "cell_type": "markdown",
   "metadata": {},
   "source": [
    "#### Install the [folium](https://github.com/python-visualization/folium) package for plotting maps in Python"
   ]
  },
  {
   "cell_type": "code",
   "execution_count": null,
   "metadata": {
    "collapsed": false
   },
   "outputs": [],
   "source": [
    "# Run this cell to install the folium package\n",
    "!pip install folium"
   ]
  },
  {
   "cell_type": "markdown",
   "metadata": {},
   "source": [
    "#### Plot a map of Manhattan, New York\n",
    "- latitude, longitude: 40.765937,-73.977304"
   ]
  },
  {
   "cell_type": "code",
   "execution_count": null,
   "metadata": {
    "collapsed": false
   },
   "outputs": [],
   "source": [
    "import folium\n",
    "import matplotlib.cm as cm\n",
    "\n",
    "map_nyc = folium.Map(location=[40.765937,-73.977304], zoom_start=12)\n",
    "\n",
    "map_nyc"
   ]
  },
  {
   "cell_type": "markdown",
   "metadata": {},
   "source": [
    "#### Add markers for each neighborhood to the map:"
   ]
  },
  {
   "cell_type": "code",
   "execution_count": null,
   "metadata": {
    "collapsed": false,
    "scrolled": true
   },
   "outputs": [],
   "source": [
    "map_nyc = folium.Map(location=[40.765937,-73.977304], zoom_start=12)\n",
    "\n",
    "for HOOD, LAT, LON in zip(nyc.neighborhood, nyc.latitude, nyc.longitude):\n",
    "    folium.CircleMarker([LAT, LON], \n",
    "                        popup = str(HOOD), #text\n",
    "                        radius = 7).add_to(map_nyc)\n",
    "\n",
    "map_nyc"
   ]
  },
  {
   "cell_type": "markdown",
   "metadata": {},
   "source": [
    "#### Change the map style"
   ]
  },
  {
   "cell_type": "markdown",
   "metadata": {},
   "source": [
    "\"Stamen Toner\""
   ]
  },
  {
   "cell_type": "code",
   "execution_count": null,
   "metadata": {
    "collapsed": false
   },
   "outputs": [],
   "source": [
    "map_nyc = folium.Map(location=[40.765937,-73.977304], tiles='Stamen Toner', zoom_start=12)#  tiles='Stamen Toner', zoom_start=12)\n",
    "\n",
    "\n",
    "for HOOD, LAT, LON in zip(nyc.neighborhood, nyc.latitude, nyc.longitude):\n",
    "    folium.CircleMarker([LAT, LON], \n",
    "                        popup = str(HOOD), #text\n",
    "                        radius = 7,\n",
    "                        color = \"blue\").add_to(map_nyc)\n",
    "\n",
    "map_nyc"
   ]
  },
  {
   "cell_type": "markdown",
   "metadata": {},
   "source": [
    "\"Stamen Watercolor\""
   ]
  },
  {
   "cell_type": "code",
   "execution_count": null,
   "metadata": {
    "collapsed": false
   },
   "outputs": [],
   "source": [
    "map_nyc = folium.Map(location=[40.765937,-73.977304], tiles='Stamen Watercolor', zoom_start=12)#  tiles='Stamen Toner', zoom_start=12)\n",
    "\n",
    "\n",
    "for HOOD, LAT, LON in zip(nyc.neighborhood, nyc.latitude, nyc.longitude):\n",
    "    folium.CircleMarker([LAT, LON], \n",
    "                        popup = str(HOOD), #text\n",
    "                        radius = 7,\n",
    "                        color = \"blue\").add_to(map_nyc)\n",
    "\n",
    "map_nyc"
   ]
  },
  {
   "cell_type": "markdown",
   "metadata": {},
   "source": [
    "<hr>"
   ]
  },
  {
   "cell_type": "markdown",
   "metadata": {},
   "source": [
    "## Using the Foursquare API: Finding the profile of nearby venues"
   ]
  },
  {
   "cell_type": "markdown",
   "metadata": {},
   "source": [
    "Please replace with your own ID/SECRET later by creating an account at: https://developer.foursquare.com"
   ]
  },
  {
   "cell_type": "markdown",
   "metadata": {},
   "source": [
    "#### Credentials"
   ]
  },
  {
   "cell_type": "code",
   "execution_count": null,
   "metadata": {
    "collapsed": true
   },
   "outputs": [],
   "source": [
    "# Polong's credentials. Please replace with your own during the cognitive build.\n",
    "CLIENT_ID = \"F340AT21E3CPCGJ2W2C3PFLCHARCBSQ3MVFKHOMZFXVIC0NG\"\n",
    "CLIENT_SECRET = \"4O5UVLS4HQKRDLF0TPDI0A0HD1MWAGVSSAPYDNOAHHTPYZRK\""
   ]
  },
  {
   "cell_type": "markdown",
   "metadata": {},
   "source": [
    "#### Import libraries"
   ]
  },
  {
   "cell_type": "code",
   "execution_count": null,
   "metadata": {
    "collapsed": false
   },
   "outputs": [],
   "source": [
    "import requests\n",
    "from pandas.io.json import json_normalize\n",
    "import pandas as pd\n",
    "import json\n",
    "pd.options.display.max_columns = 999\n",
    "\n",
    "print(\"Libraries imported.\")"
   ]
  },
  {
   "cell_type": "markdown",
   "metadata": {},
   "source": [
    "### $function$ getNearestVenues: \n",
    "- Using the Foursquare API, fetch the nearby venues for each location in a list.\n",
    "> `getNearestVenues(namelist, latlist, lonlist, radius=100, limit=100)`  \n",
    "> - **namelist**: list of names of locations\n",
    "> - **latlist**: list of latitudes\n",
    "> - **lonlist**: list of longitudes\n",
    "> - **radius**: (optional) in meters from lat/lon. Default = 100\n",
    "> - **limit**: (optional) limit number of venues within radius to search. Default = 100  \n",
    "> - _**Returns a dataframe of all the nearest venues for each input location**_\n",
    "\n",
    "#### _Sample output:_\n",
    "<img src=https://ibm.box.com/shared/static/hexljahyeqhkuv0slvc80xvqgyosmww4.png width=640 align=left>"
   ]
  },
  {
   "cell_type": "code",
   "execution_count": null,
   "metadata": {
    "collapsed": false
   },
   "outputs": [],
   "source": [
    "import time\n",
    "\n",
    "def getNearestVenues(namelist, latlist, lonlist, radius=500, limit=100):\n",
    "    \n",
    "    mylist=[]\n",
    "    counter = 1\n",
    "    totalcount = len(namelist)\n",
    "    \n",
    "    for NAME, LAT, LON in zip(namelist, latlist, lonlist):\n",
    "        print(NAME)\n",
    "        \n",
    "        if counter % 10 == 0:\n",
    "            # Prevent exceeding rate limit of API requests\n",
    "            print (\"---Wait 5 sec--- [\" + str(totalcount-counter) + \" remaining]\")\n",
    "            time.sleep(5)\n",
    "            \n",
    "        # Set the API request url\n",
    "        url = \"https://api.foursquare.com/v2/venues/explore?&ll={}%2C%20{}\\\n",
    "                &intent=browse&radius={}\\\n",
    "                &limit={}\\\n",
    "                &client_id={}\\\n",
    "                &client_secret={}\\\n",
    "                &v=20161016\"\\\n",
    "                .format(LAT, LON, radius, limit, CLIENT_ID, CLIENT_SECRET)\n",
    "            \n",
    "        # GET request\n",
    "        results = requests.get(url).json()[\"response\"]['groups']\n",
    "        \n",
    "        # Return specific items of interest from GET request result (for each nearby venue: name, lat, lon, category)\n",
    "        mylist.append([(NAME, LAT, LON, \n",
    "                        v['venue']['name'], \n",
    "                        v['venue']['location']['lat'], \n",
    "                        v['venue']['location']['lng'],  \n",
    "                        v['venue']['categories'][0]['name']) for v in results[0]['items']])\n",
    "        counter += 1\n",
    "\n",
    "    df = pd.DataFrame([item for sublist in mylist for item in sublist])\n",
    "    df.columns = ['poi', 'poi_lat', 'poi_lon', 'venue', 'venue_lat', 'venue_lon', 'venue_cat']\n",
    "    \n",
    "    return(df)"
   ]
  },
  {
   "cell_type": "markdown",
   "metadata": {},
   "source": [
    "Run the **getNearestVenues** function:"
   ]
  },
  {
   "cell_type": "code",
   "execution_count": null,
   "metadata": {
    "collapsed": false,
    "scrolled": true
   },
   "outputs": [],
   "source": [
    "nyc_venues = getNearestVenues(namelist = nyc.neighborhood,\n",
    "                              latlist = nyc.latitude,\n",
    "                              lonlist = nyc.longitude,\n",
    "                              radius = 1000)\n"
   ]
  },
  {
   "cell_type": "code",
   "execution_count": null,
   "metadata": {
    "collapsed": false
   },
   "outputs": [],
   "source": [
    "print nyc_venues.shape\n",
    "nyc_venues.head(20)"
   ]
  },
  {
   "cell_type": "markdown",
   "metadata": {},
   "source": [
    "### How many nearby venues were identified by Foursquare for each location (\"point of interest\")?"
   ]
  },
  {
   "cell_type": "code",
   "execution_count": null,
   "metadata": {
    "collapsed": false
   },
   "outputs": [],
   "source": [
    "nyc_venues.groupby(\"poi\").count()"
   ]
  },
  {
   "cell_type": "markdown",
   "metadata": {},
   "source": [
    "## K-means clustering of neighborhoods based on their nearby venues"
   ]
  },
  {
   "cell_type": "markdown",
   "metadata": {},
   "source": [
    "Given the dataframe, how can we do clustering to see which locations are most similar to each other?"
   ]
  },
  {
   "cell_type": "code",
   "execution_count": null,
   "metadata": {
    "collapsed": false
   },
   "outputs": [],
   "source": [
    "nyc_venues.head()"
   ]
  },
  {
   "cell_type": "markdown",
   "metadata": {},
   "source": [
    "Answer: we cannot do clustering with this dataframe _as is_. Cannot cluster on the venue_cat column because it has categorical features. We need to reshape it."
   ]
  },
  {
   "cell_type": "markdown",
   "metadata": {},
   "source": [
    "**Goal:**\n",
    "- one-hot encode the category column -- so that each venue category is its own category"
   ]
  },
  {
   "cell_type": "code",
   "execution_count": null,
   "metadata": {
    "collapsed": false
   },
   "outputs": [],
   "source": [
    "# One hot encoding\n",
    "nyc_onehot = pd.get_dummies(nyc_venues[['venue_cat']], prefix = \"\", prefix_sep=\"\")\n",
    "\n",
    "#add poi column back to dataframe, at the end\n",
    "nyc_onehot[\"poi\"] = nyc_venues.poi \n",
    "\n",
    "# Move poi column to the first column\n",
    "col_names = [nyc_onehot.columns[-1]] + list(nyc_onehot.columns[:-1])\n",
    "nyc_onehot = nyc_onehot[col_names]\n",
    "\n",
    "print(nyc_onehot.shape) # many new columns created!\n",
    "nyc_onehot.head()"
   ]
  },
  {
   "cell_type": "markdown",
   "metadata": {},
   "source": [
    "### What's the \"profile\" for each neighborhood? Let's get the mean of each venue type by neighborhood"
   ]
  },
  {
   "cell_type": "code",
   "execution_count": null,
   "metadata": {
    "collapsed": false,
    "scrolled": false
   },
   "outputs": [],
   "source": [
    "nyc_grouped = nyc_onehot.groupby('poi').mean().reset_index()\n",
    "nyc_grouped.head(10)"
   ]
  },
  {
   "cell_type": "markdown",
   "metadata": {},
   "source": [
    "## Neighborhoods in Manhattan\n",
    "\n",
    "_<font align=left>Image source: https://nickwoodhams.com/new-york-neighborhoods-by-proximity-to-manhattan/</font>  _\n",
    "\n",
    "<img src=https://nickwoodhams.com/content/images/2015/07/Manhattan-neighborhoods-map.jpg width=350 align=left>  \n",
    "\n"
   ]
  },
  {
   "cell_type": "markdown",
   "metadata": {},
   "source": [
    "### What are the most popular venues for each neighborhood?"
   ]
  },
  {
   "cell_type": "code",
   "execution_count": null,
   "metadata": {
    "collapsed": false,
    "scrolled": false
   },
   "outputs": [],
   "source": [
    "for hood in nyc_grouped.poi:\n",
    "    print(\"----\"+hood+\"----\")\n",
    "    temp = nyc_grouped.loc[nyc_grouped.poi == hood].T.reset_index()\n",
    "    temp.columns = ['venue','freq']\n",
    "    temp = temp.ix[1:]\n",
    "    temp['freq'] = temp['freq'].astype(float)\n",
    "    temp = temp.round({'freq': 2})\n",
    "    print(temp.sort_values('freq', ascending = False).reset_index(drop=True).head(3))\n",
    "    print(\"\\n\")"
   ]
  },
  {
   "cell_type": "markdown",
   "metadata": {},
   "source": [
    "### View top venues per neighborhood as a table"
   ]
  },
  {
   "cell_type": "code",
   "execution_count": null,
   "metadata": {
    "collapsed": false
   },
   "outputs": [],
   "source": [
    "top_n = 3\n",
    "\n",
    "df = pd.DataFrame({n: nyc_grouped.drop(\"poi\", axis=1).T[col].nlargest(top_n).index.tolist() \n",
    "                  for n, col in enumerate(nyc_grouped.T)}).T\n",
    "df[\"poi\"] = nyc_grouped.poi\n",
    "df[[\"poi\"] + range(0,top_n)]"
   ]
  },
  {
   "cell_type": "markdown",
   "metadata": {},
   "source": [
    "<hr>"
   ]
  },
  {
   "cell_type": "markdown",
   "metadata": {},
   "source": [
    "## K-means clustering"
   ]
  },
  {
   "cell_type": "markdown",
   "metadata": {},
   "source": [
    "#### Review our dataframe:\n",
    "Because each variable has a numeric value, we can now cluster the neighborhoods together."
   ]
  },
  {
   "cell_type": "code",
   "execution_count": null,
   "metadata": {
    "collapsed": false
   },
   "outputs": [],
   "source": [
    "nyc_grouped.head()"
   ]
  },
  {
   "cell_type": "markdown",
   "metadata": {},
   "source": [
    "### **Goal**:\n",
    "Use k-means clustering to group similar POI's together into clusters."
   ]
  },
  {
   "cell_type": "code",
   "execution_count": null,
   "metadata": {
    "collapsed": false
   },
   "outputs": [],
   "source": [
    "from sklearn.cluster import KMeans\n",
    "\n",
    "# Set number of clusters\n",
    "kclusters = 5\n",
    "\n",
    "# Run k-means clustering\n",
    "kmeans = KMeans(n_clusters=kclusters, random_state=0).fit(nyc_grouped.drop('poi', 1))\n",
    "\n",
    "# Check cluster labels generated for each row in the dataframe\n",
    "kmeans.labels_[0:10] "
   ]
  },
  {
   "cell_type": "markdown",
   "metadata": {},
   "source": [
    "#### Combine the cluster labels with the actual data"
   ]
  },
  {
   "cell_type": "code",
   "execution_count": null,
   "metadata": {
    "collapsed": false
   },
   "outputs": [],
   "source": [
    "nyc_merged = nyc\n",
    "\n",
    "# Add clustering labels\n",
    "nyc_merged['cluster_labels'] = kmeans.labels_\n",
    "\n",
    "# Merge nyc_grouped with nyc to add latitude/longitude for each neighborhood\n",
    "nyc_merged = nyc_merged.merge(nyc_grouped, left_on=\"neighborhood\", right_on=\"poi\")\n",
    "\n",
    "nyc_merged.head() #Check the last columns!"
   ]
  },
  {
   "cell_type": "markdown",
   "metadata": {},
   "source": [
    "## Plot the neighborhoods on a map, <font color=\"blue\">coloured</font> by its cluster"
   ]
  },
  {
   "cell_type": "code",
   "execution_count": null,
   "metadata": {
    "collapsed": false,
    "scrolled": false
   },
   "outputs": [],
   "source": [
    "import folium\n",
    "import matplotlib.cm as cm\n",
    "import numpy as np\n",
    "import matplotlib.colors as colors\n",
    "\n",
    "# Create map\n",
    "map_clusters = folium.Map(location=[40.765937,-73.977304], zoom_start=13)\n",
    "\n",
    "# Set color scheme for the clusters\n",
    "x = np.arange(kclusters)\n",
    "ys = [i+x+(i*x)**2 for i in range(kclusters)]\n",
    "colors_array = cm.rainbow(np.linspace(0, 1, len(ys)))\n",
    "rainbow = [colors.rgb2hex(i) for i in colors_array]\n",
    "\n",
    "# Add markers to the map\n",
    "for POI, LAT, LON, CLU in zip(nyc_merged.poi, nyc_merged.latitude, nyc_merged.longitude, nyc_merged.cluster_labels):\n",
    "    folium.CircleMarker([LAT, LON], \n",
    "                        popup = str(POI)+\" Cluster \"+str(CLU),\n",
    "                        radius = 7, \n",
    "                        color = rainbow[CLU-1], \n",
    "                        fill_color = rainbow[CLU-1],\n",
    "                        fill_opacity = 0.7).add_to(map_clusters)\n",
    "\n",
    "map_clusters"
   ]
  },
  {
   "cell_type": "markdown",
   "metadata": {},
   "source": [
    "<hr>"
   ]
  },
  {
   "cell_type": "markdown",
   "metadata": {
    "collapsed": true
   },
   "source": [
    "## <font color=\"blue\">Challenge #1: Explore Venues around NYC using even more locations"
   ]
  },
  {
   "cell_type": "markdown",
   "metadata": {},
   "source": [
    "Using what you've learned about exploring venues around NYC, can you extend this exploratory project to even more locations around NYC? Perhaps all of United States?\n",
    "- Which cities in the United States seem to be similar to each other?\n",
    "- Is Tokyo more like New York City? Or is Paris more like New York City?\n",
    "- Can you create a recommendation engine for people who want to move from state to state, but don't know which neighbourhood to live in?"
   ]
  },
  {
   "cell_type": "markdown",
   "metadata": {},
   "source": [
    "#### Here's a start: NYC Subway station entrances and exits (there are 1868 in total)\n",
    "Data: https://data.ny.gov/Transportation/NYC-Transit-Subway-Entrance-And-Exit-Data/i9wp-a4ja"
   ]
  },
  {
   "cell_type": "code",
   "execution_count": null,
   "metadata": {
    "collapsed": false
   },
   "outputs": [],
   "source": [
    "# Download geolocation data on all the NYC subways\n",
    "# Source: https://data.ny.gov/Transportation/NYC-Transit-Subway-Entrance-And-Exit-Data/i9wp-a4ja\n",
    "\n",
    "!wget -O nycsubway.csv --quiet https://ibm.box.com/shared/static/04t39dgar3qiejemfk0sg2jxevz6cnjs.csv\n",
    "print(\"Downloaded file nycsubway.csv\")\n",
    "\n",
    "import pandas as pd\n",
    "\n",
    "subway = pd.read_csv(\"nycsubway.csv\")\n",
    "\n",
    "print(subway.shape)\n",
    "subway.head()"
   ]
  },
  {
   "cell_type": "markdown",
   "metadata": {
    "collapsed": true
   },
   "source": [
    "### Plot the subways on a map"
   ]
  },
  {
   "cell_type": "code",
   "execution_count": null,
   "metadata": {
    "collapsed": false,
    "scrolled": true
   },
   "outputs": [],
   "source": [
    "import folium\n",
    "\n",
    "map_nyc_subway = folium.Map(location=[40.765937,-73.977304], zoom_start=13)\n",
    "\n",
    "for NAME, LAT, LON in zip(subway[\"Station Name\"], subway[\"Station Latitude\"], subway[\"Station Longitude\"]):\n",
    "    folium.CircleMarker([LAT, LON], \n",
    "                        popup = str(NAME), #text\n",
    "                        radius = 5).add_to(map_nyc_subway)\n",
    "\n",
    "map_nyc_subway"
   ]
  },
  {
   "cell_type": "markdown",
   "metadata": {},
   "source": [
    "<hr>"
   ]
  },
  {
   "cell_type": "markdown",
   "metadata": {},
   "source": [
    "## <font color=\"blue\"> Challenge #2: Where should small businesses in NYC set up their offices?\n",
    "If you were an electrician, lawyer, food truck owner, where should you set up your business? Can you use data on existing businesses to identify what would be the best area to set up shop?\n",
    "\n",
    "Data: https://data.cityofnewyork.us/widgets/ci93-uc8s"
   ]
  },
  {
   "cell_type": "code",
   "execution_count": null,
   "metadata": {
    "collapsed": false
   },
   "outputs": [],
   "source": [
    "# Original data source: https://data.cityofnewyork.us/widgets/ci93-uc8s\n",
    "!wget -O nyc_smallbusinesses.csv --quiet https://ibm.box.com/shared/static/lnflp0ws970g597fkeh0q1r16zyi0eqf.csv\n",
    "\n",
    "import pandas as pd\n",
    "\n",
    "nyc_biz = pd.read_csv(\"nyc_smallbusinesses.csv\")\n",
    "\n",
    "print(nyc_biz.shape)\n",
    "nyc_biz.head()"
   ]
  },
  {
   "cell_type": "markdown",
   "metadata": {},
   "source": [
    "<hr>"
   ]
  },
  {
   "cell_type": "markdown",
   "metadata": {},
   "source": [
    "## <font color=\"blue\"> Challenge #3: Can you help NYC predict which restaurants are most likely to fail food inspections?\n",
    "NYC has limited resources and the government cannot simply check every restaurant in NYC every month. \n",
    "\n",
    "- Are restaurants more likely to fail inspections if they are closer to a nightclub vs. an art gallery? What about proximity to an animal shelter? Can nearby venues help you predict the likelihood of failing a food inspection?\n",
    "- Can we help the city identify potentially problematic restaurants?\n",
    "- Can we create a model to predict which restaurants will become at risk of failing the food inspection?\n",
    "\n",
    "Data: https://data.cityofnewyork.us/Health/DOHMH-New-York-City-Restaurant-Inspection-Results/xx67-kt59/data"
   ]
  },
  {
   "cell_type": "code",
   "execution_count": null,
   "metadata": {
    "collapsed": false
   },
   "outputs": [],
   "source": [
    "!wget -O nyc_food.csv --quiet https://ibm.box.com/shared/static/gid77010bkjte65cvskf18rotbcrkyn8.csv\n",
    "\n",
    "import pandas as pd\n",
    "\n",
    "nyc_food = pd.read_csv(\"nyc_food.csv\")\n",
    "\n",
    "print(nyc_food.shape)\n",
    "nyc_food.head()"
   ]
  },
  {
   "cell_type": "markdown",
   "metadata": {},
   "source": [
    "#### Tip: You can convert an address to latitude/longitude"
   ]
  },
  {
   "cell_type": "code",
   "execution_count": null,
   "metadata": {
    "collapsed": false
   },
   "outputs": [],
   "source": [
    "from geopy.geocoders import Nominatim\n",
    "address = \"315 Hudson Street New York, NY\"\n",
    "\n",
    "geolocator = Nominatim()\n",
    "location = geolocator.geocode(address)\n",
    "latitude = location.latitude\n",
    "longitude = location.longitude\n",
    "print latitude, longitude"
   ]
  },
  {
   "cell_type": "code",
   "execution_count": null,
   "metadata": {
    "collapsed": false
   },
   "outputs": [],
   "source": [
    "import folium\n",
    "\n",
    "map_galvanize_nyc = folium.Map(location=[40.7263874, -74.0076351], zoom_start=14, tiles = \"Stamen Toner\")\n",
    "\n",
    "folium.CircleMarker([40.7263874, -74.0076351], popup = \"Galvanize NYC\", color = \"red\", radius = 5).add_to(map_galvanize_nyc)\n",
    "\n",
    "map_galvanize_nyc"
   ]
  },
  {
   "cell_type": "markdown",
   "metadata": {},
   "source": [
    "<hr>"
   ]
  },
  {
   "cell_type": "markdown",
   "metadata": {},
   "source": [
    "## <font color=\"blue\">Challenge #4: Predicting 311 complaints using contextual location\n",
    "Since 2010, there have been over 15 million complaints through 311. Wouldn't it be great if we could prevent these complaints from occurring in the first place? \n",
    "- What's causing the 311 complaints, and does it have to do with _where_ the complaint is about?\n",
    "- Can we predict the likelihood of a complaint based on its proximity to certain venues? (e.g., noise to nearby pubs)\n",
    "\n",
    "\n",
    "Data: https://nycopendata.socrata.com/Social-Services/311-Service-Requests-from-2010-to-Present/erm2-nwe9"
   ]
  },
  {
   "cell_type": "code",
   "execution_count": null,
   "metadata": {
    "collapsed": true
   },
   "outputs": [],
   "source": [
    "# Warning - file is 100's of MBs in size. There are >15M rows and 53 columns.\n",
    "# If you wish to download, remove the # from the beginning of the following line:\n",
    "\n",
    "#!wget -O nyc_311complaints.csv https://nycopendata.socrata.com/api/views/erm2-nwe9/rows.csv?accessType=DOWNLOAD\n",
    "    \n",
    "import pandas as pd\n",
    "\n",
    "nyc_complaints = pd.read_csv(\"nyc_311complaints.csv\")\n",
    "\n",
    "print(nyc_complaints.shape)\n",
    "nyc_complaints.head()"
   ]
  },
  {
   "cell_type": "markdown",
   "metadata": {},
   "source": [
    "<hr>"
   ]
  },
  {
   "cell_type": "markdown",
   "metadata": {},
   "source": [
    "## <font color=\"blue\"> Challenge #5: Look to your own hobbies/passions\n",
    "If you want to come up with your own idea, the best advice you can get is this: **look to your own hobbies/passions**. The problem in data science is that you usually need significant domain expertise to really be able to come up with something no one else has thought of.\n",
    "\n",
    "Asking yourself these questions can help you come up with an idea:\n",
    "1. Name three of your hobbies, interests, or things you just _know well_ -- think outside of your daytime occupation!\n",
    " - it could be about a particular sport, about ballet, about drones\n",
    " - it could even be something you've simply invested a lot of time in -- perhaps you recently became a mom/dad, so you know a lot about diapers!\n",
    "2. Think about some of the problems that people in those fields struggle with. Can you:\n",
    " - help people save _time_?\n",
    " - help people save _money_?\n",
    " - make people _happier_?\n",
    " - help bring people _together_?\n",
    " - predict a problem before it occurs?\n",
    "3. Remember: the best ideas are not just _descriptive_, but **_prescriptive_**. That means, you should think about how what you build can **change behavior**. For example, make sure that if you're trying to identify correlations between X and Y, that people can actually _use_ that information and do something with it. If it's knowledge for the sake of knowledge, you are on the path of doing something that may make people think \"oh, that's interesting\" and never think about it again, so be careful! **Make something meaningful that has the potential to cause _change_.**"
   ]
  },
  {
   "cell_type": "markdown",
   "metadata": {},
   "source": [
    "<hr>"
   ]
  },
  {
   "cell_type": "markdown",
   "metadata": {},
   "source": [
    "## To create a new notebook: \n",
    "<img src=https://ibm.box.com/shared/static/widfmgekf12oksgw37uhcsfilah00h14.gif width = 640 align=left>"
   ]
  },
  {
   "cell_type": "markdown",
   "metadata": {},
   "source": [
    "<hr>"
   ]
  },
  {
   "cell_type": "markdown",
   "metadata": {},
   "source": [
    "# <center> Want to brush up your skills in data science?\n",
    "<center> Check out the free courses available on [Big Data U](https://bigdatauniversity.com/courses?utm_source=cbfseattle&utm_medium=notebook):"
   ]
  },
  {
   "cell_type": "markdown",
   "metadata": {},
   "source": [
    "<a href=https://bigdatauniversity.com/courses?utm_source=cbfseattle&utm_medium=notebook><img src=https://ibm.box.com/shared/static/efpg9z7rt2ljo9qdrt6m7pqwisau55wd.png width=800></a>"
   ]
  }
 ],
 "metadata": {
  "kernelspec": {
   "display_name": "Python 2 with Spark 2.1",
   "language": "python",
   "name": "python2-spark21"
  },
  "language_info": {
   "codemirror_mode": {
    "name": "ipython",
    "version": 2
   },
   "file_extension": ".py",
   "mimetype": "text/x-python",
   "name": "python",
   "nbconvert_exporter": "python",
   "pygments_lexer": "ipython2",
   "version": "2.7.11"
  },
  "widgets": {
   "state": {},
   "version": "1.1.2"
  }
 },
 "nbformat": 4,
 "nbformat_minor": 0
}